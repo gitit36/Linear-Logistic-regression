{
  "nbformat": 4,
  "nbformat_minor": 0,
  "metadata": {
    "kernelspec": {
      "display_name": "Python 3",
      "language": "python",
      "name": "python3"
    },
    "language_info": {
      "codemirror_mode": {
        "name": "ipython",
        "version": 3
      },
      "file_extension": ".py",
      "mimetype": "text/x-python",
      "name": "python",
      "nbconvert_exporter": "python",
      "pygments_lexer": "ipython3",
      "version": "3.7.6"
    },
    "colab": {
      "name": "Part2_LogisticRegression_pseudo.ipynb",
      "provenance": []
    }
  },
  "cells": [
    {
      "cell_type": "markdown",
      "metadata": {
        "id": "AO_s7BZnhsGR"
      },
      "source": [
        "# Logistic Regression \n",
        "\n",
        "In this project, I will use gradient ascent to find the weights for the logistic regression.   \n",
        "\n",
        "As an example, I will use the widely-used breast cancer data set. This data set is described here:\n",
        "\n",
        "https://archive.ics.uci.edu/ml/machine-learning-databases/breast-cancer-wisconsin\n"
      ]
    },
    {
      "cell_type": "markdown",
      "metadata": {
        "id": "JKjC7yi4hsGS"
      },
      "source": [
        "## Step 1:  Getting, preprocessing, and understanding the dataset"
      ]
    },
    {
      "cell_type": "markdown",
      "metadata": {
        "id": "eqzC5ZKfhsGT"
      },
      "source": [
        "### Importing the standard libraries"
      ]
    },
    {
      "cell_type": "code",
      "metadata": {
        "id": "a1NVIVdNhsGT"
      },
      "source": [
        "# Importing important libraries\n",
        "# Import breastcancer dataset\n",
        "# Import preprocessing from sklearn\n",
        "# Import train_test_split from sklearn\n",
        "# Import numpy,math\n",
        "\n",
        "%matplotlib inline \n",
        "import sklearn.preprocessing\n",
        "import numpy as np\n",
        "import pandas as pd\n",
        "from sklearn.datasets import load_breast_cancer\n",
        "from IPython.core.interactiveshell import InteractiveShell\n",
        "InteractiveShell.ast_node_interactivity = \"all\"\n",
        "from sklearn.model_selection import train_test_split\n",
        "import matplotlib.pyplot as plt "
      ],
      "execution_count": null,
      "outputs": []
    },
    {
      "cell_type": "markdown",
      "metadata": {
        "id": "YOs3sdOqhsGT"
      },
      "source": [
        "### Importing the dataset"
      ]
    },
    {
      "cell_type": "code",
      "metadata": {
        "id": "5jf47kYGhsGU"
      },
      "source": [
        "# Load dataset to a python variable cancer\n",
        "# Store target to a variable called y\n",
        "# Store feature to a variable called X\n",
        "\n",
        "cancer = load_breast_cancer()\n",
        "print(cancer.keys())\n",
        "X = cancer.data\n",
        "y = cancer.target\n",
        "print(type(cancer))"
      ],
      "execution_count": null,
      "outputs": []
    },
    {
      "cell_type": "code",
      "metadata": {
        "scrolled": true,
        "colab": {
          "base_uri": "https://localhost:8080/"
        },
        "id": "JCC321UfhsGU",
        "outputId": "4ee49679-c2e2-441e-fba9-7cb83309cdca"
      },
      "source": [
        "# Printing the shape of data (X) and target (Y) values \n",
        "print(X.shape)\n",
        "print(y.shape)"
      ],
      "execution_count": null,
      "outputs": [
        {
          "output_type": "stream",
          "text": [
            "(569, 30)\n",
            "(569,)\n"
          ],
          "name": "stdout"
        }
      ]
    },
    {
      "cell_type": "markdown",
      "metadata": {
        "id": "GVetPgBYhsGU"
      },
      "source": [
        "### Data Pre-Processing\n",
        "#### Splitting the data into train and test before scaling the dataset\n"
      ]
    },
    {
      "cell_type": "code",
      "metadata": {
        "id": "IcHzQEeBhsGV"
      },
      "source": [
        "# Use train_test_split() function to split the dataset\n",
        "# Store the return value of pervious step to X_train, X_test, y_train, y_test\n",
        "X_train, X_test, y_train, y_test = train_test_split(X, y, random_state = 20)"
      ],
      "execution_count": null,
      "outputs": []
    },
    {
      "cell_type": "markdown",
      "metadata": {
        "id": "3vypyhBThsGV"
      },
      "source": [
        "#### Scale the data since we will be using gradient ascent"
      ]
    },
    {
      "cell_type": "code",
      "metadata": {
        "id": "fIa0ji5bhsGV"
      },
      "source": [
        "# Find the scaler of the dataset by using preprocessing.StandardScaler().fit()\n",
        "# Using this scale to scale the X_train and X_test using .transform()\n",
        "scaler = sklearn.preprocessing.StandardScaler().fit(X_train)\n",
        "X_train = scaler.transform(X_train)\n",
        "X_test = scaler.transform(X_test)"
      ],
      "execution_count": null,
      "outputs": []
    },
    {
      "cell_type": "code",
      "metadata": {
        "colab": {
          "base_uri": "https://localhost:8080/"
        },
        "id": "Dk7cuwtBhsGV",
        "outputId": "5ddd5694-4fb7-4689-80e4-99b696eb00b2"
      },
      "source": [
        "# TODO - Print the shape of x_train and y_train \n",
        "print(X_train.shape) # It should print (426, 30)\n",
        "print(y_train.shape) # It should print (426,)"
      ],
      "execution_count": null,
      "outputs": [
        {
          "output_type": "stream",
          "text": [
            "(426, 30)\n",
            "(426,)\n"
          ],
          "name": "stdout"
        }
      ]
    },
    {
      "cell_type": "markdown",
      "metadata": {
        "id": "DMsdltFghsGW"
      },
      "source": [
        "#### Adding a column of ones to the  matrices $X_{train}$ and  $X_{test}$\n",
        "After adding a column of ones $X_{train}=\\left[\\begin{matrix}\n",
        "1& x^{(1)}_1& x^{(1)}_2 &\\ldots& x^{(1)}_d\\\\\n",
        "1& x^{(2)}_1& x^{(2)}_2 &\\ldots& x^{(2)}_d\\\\\n",
        "\\vdots & \\vdots &\\vdots & & \\vdots \\\\\n",
        "1& x^{(N')}_1& x^{(N')}_2 &\\ldots& x^{(N')}_d\\\\\n",
        "\\end{matrix}\\right]$\n",
        "\n",
        "Similarly for $X_{test}$"
      ]
    },
    {
      "cell_type": "code",
      "metadata": {
        "colab": {
          "base_uri": "https://localhost:8080/"
        },
        "id": "ttmc_OkwhsGW",
        "outputId": "2a0d0065-8a8d-403c-fa45-df6c479ff92f"
      },
      "source": [
        "# Append a column of ones to x_train \n",
        "# Create a column vector of ones by using np.ones and reshape\n",
        "# Append a column of ones in the beginning of x_train by using np.hstack\n",
        "X_train = np.hstack((np.ones((X_train.shape[0], 1)), X_train))\n",
        "X_test = np.hstack((np.ones((X_test.shape[0], 1)), X_test))\n",
        "\n",
        "# Now do the same for the test data\n",
        "\n",
        "# We can check that everything worked correctly by:\n",
        "# Printing out the new dimensions\n",
        "print(\"The trainng data has dimensions: \", X_train.shape, \". The testing data has dimensions: \", X_test.shape)\n",
        "# # Looking at the first two rows of X_train to check everything worked as expected\n",
        "print(X_train[0:2])"
      ],
      "execution_count": null,
      "outputs": [
        {
          "output_type": "stream",
          "text": [
            "The trainng data has dimensions:  (426, 31) . The testing data has dimensions:  (143, 31)\n",
            "[[ 1.         -0.47650454  1.06916993 -0.32927472 -0.51000382  1.70745911\n",
            "   2.61802112  1.73129387  0.98172185  0.83559189  3.05774528 -0.3609251\n",
            "   0.66102692 -0.39203921 -0.36008091  0.03339713  2.55009327  1.36157115\n",
            "   0.38967536 -0.29990979  2.51004661 -0.23051777  2.42056437 -0.27821778\n",
            "  -0.28586222  2.39571731  5.05982113  3.88349948  1.63977233  2.51102177\n",
            "   6.93389202]\n",
            " [ 1.         -1.13284528 -0.42993074 -1.11459218 -0.98031335  0.78304908\n",
            "  -0.34361423 -0.87030815 -0.74525945  0.39611437  1.01112495 -0.54829632\n",
            "  -0.01218325 -0.58929408 -0.57257812  0.27911125 -0.63369494 -0.72789319\n",
            "  -0.65232967  0.74399749  0.01591664 -1.06942183 -0.47516488 -1.06412766\n",
            "  -0.91233782  0.40626955 -0.69099607 -0.96816489 -0.88853091  0.30596389\n",
            "   0.2511347 ]]\n"
          ],
          "name": "stdout"
        }
      ]
    },
    {
      "cell_type": "markdown",
      "metadata": {
        "id": "a8ubgdeZhsGW"
      },
      "source": [
        "### Understanding the dataset"
      ]
    },
    {
      "cell_type": "code",
      "metadata": {
        "colab": {
          "base_uri": "https://localhost:8080/"
        },
        "id": "nc9CZ-rGhsGW",
        "outputId": "b3162d89-cd9d-48a2-8072-bed625667bdd"
      },
      "source": [
        "# Printing the names of all the features\n",
        "print(cancer.feature_names)"
      ],
      "execution_count": null,
      "outputs": [
        {
          "output_type": "stream",
          "text": [
            "['mean radius' 'mean texture' 'mean perimeter' 'mean area'\n",
            " 'mean smoothness' 'mean compactness' 'mean concavity'\n",
            " 'mean concave points' 'mean symmetry' 'mean fractal dimension'\n",
            " 'radius error' 'texture error' 'perimeter error' 'area error'\n",
            " 'smoothness error' 'compactness error' 'concavity error'\n",
            " 'concave points error' 'symmetry error' 'fractal dimension error'\n",
            " 'worst radius' 'worst texture' 'worst perimeter' 'worst area'\n",
            " 'worst smoothness' 'worst compactness' 'worst concavity'\n",
            " 'worst concave points' 'worst symmetry' 'worst fractal dimension']\n"
          ],
          "name": "stdout"
        }
      ]
    },
    {
      "cell_type": "code",
      "metadata": {
        "id": "j5QGeX72hsGX"
      },
      "source": [
        "# You can add your own code here to better understand the dataset"
      ],
      "execution_count": null,
      "outputs": []
    },
    {
      "cell_type": "markdown",
      "metadata": {
        "id": "VE8UjxqYhsGX"
      },
      "source": [
        "\n",
        " Before writing the gradient ascent code, there are some helpful functions"
      ]
    },
    {
      "cell_type": "markdown",
      "metadata": {
        "id": "dck9N3tYhsGX"
      },
      "source": [
        "\n",
        " \n",
        "### Sigmoid($z$)\n",
        "The first function I will write is sigmoid($z$)\n",
        "\n",
        "sigmoid($z$) takes as input a column vector of real numbers, $z^T = [z_1, z_2, ..., z_{N'}]$, where $N'$ is the number of  examples\n",
        "\n",
        "It should produce as output a column vector $\\left[\\frac{1}{1+e^{-z_1}},\\frac{1}{1+e^{-z_2}},...,\\frac{1}{1+e^{-z_{N'}}}\\right]^T$"
      ]
    },
    {
      "cell_type": "code",
      "metadata": {
        "id": "ioX0nQtOhsGX"
      },
      "source": [
        "# Write the sigmoid function\n",
        "def sigmoid(z):\n",
        "    sgmd = 1/(1 + np.exp(-z)) \n",
        "    return sgmd"
      ],
      "execution_count": null,
      "outputs": []
    },
    {
      "cell_type": "markdown",
      "metadata": {
        "id": "3lkZSQ6ChsGX"
      },
      "source": [
        "### Initializing ${\\bf w}$\n",
        "For testing the next functions, I will create a coefficient vector, ${\\bf w}$.\n",
        "We will initialize the coeffients to be $0$, i.e. ${\\bf w}^T = [0,0,\\ldots ,0]$ (could have initialized ${\\bf w}$ to any values.)"
      ]
    },
    {
      "cell_type": "code",
      "metadata": {
        "id": "ko2ojeIbhsGY"
      },
      "source": [
        "# Initialize w using np.zeros()\n",
        "w = np.zeros((X_train.shape[1], 1))"
      ],
      "execution_count": null,
      "outputs": []
    },
    {
      "cell_type": "markdown",
      "metadata": {
        "id": "KqoDAU4ChsGY"
      },
      "source": [
        "### Hypothesis, $h({\\bf x})$\n",
        "The next  function to write is our hypothesis function. \n",
        "\n",
        "For example if our design matrix $X$ consists of single example $X=[1,x_1,x_2,\\ldots,x_d]$ and  weights ${\\bf w}^T=[w_0,w_2,\\ldots, w_d]$, it returns $h({\\bf x})=\\frac{1}{1+e^{-\\left({w_{0}\\cdot 1 +w_1\\cdot x_1+\\cdots w_d\\cdot x_d}\\right)}}$\n",
        "\n",
        "If given a  matrix consisting of $N'$ examples \n",
        "$X=\\left[\\begin{matrix}\n",
        "1& x^{(1)}_1& x^{(1)}_2 &\\ldots& x^{(1)}_d\\\\\n",
        "1& x^{(2)}_1& x^{(2)}_2 &\\ldots& x^{(2)}_d\\\\\n",
        "\\vdots & \\vdots &\\vdots & & \\vdots \\\\\n",
        "1& x^{(N')}_1& x^{(N')}_2 &\\ldots& x^{(N')}_d\\\\\n",
        "\\end{matrix}\\right]$\n",
        "and  weights ${\\bf w}^T=[w_0,w_2,\\ldots, w_d]$, the function returns a column vector\n",
        "$[h({\\bf x}^{(1)}),h({\\bf x}^{(2)},\\ldots, h({\\bf x}^{(N')}]^T$"
      ]
    },
    {
      "cell_type": "code",
      "metadata": {
        "id": "K9kP-8wMhsGY"
      },
      "source": [
        "# Predict the probability that a patient has cancer \n",
        "# Write the hypothesis function \n",
        "def hypothesis(X , w):\n",
        "    return sigmoid(np.dot(X,w))\n"
      ],
      "execution_count": null,
      "outputs": []
    },
    {
      "cell_type": "markdown",
      "metadata": {
        "id": "j79Q8J48hsGY"
      },
      "source": [
        "### Log-Likelihood Function.\n",
        "Write the code to calculate the log likelihood function $\\ell({\\bf w})=\n",
        "\\sum_{i=1}^{N'}y^{(i)}\\ln(h({\\bf x}^{(i)})) +(1- y^{(i)})\\ln(1-h({\\bf x}^{(i)}))$\n",
        "\n",
        "The input is a matrix consisting of $N'$ examples $X=\\left[\\begin{matrix}\n",
        "1& x^{(1)}_1& x^{(1)}_2 &\\ldots& x^{(1)}_d\\\\\n",
        "1& x^{(2)}_1& x^{(2)}_2 &\\ldots& x^{(2)}_d\\\\\n",
        "\\vdots & \\vdots &\\vdots & & \\vdots \\\\\n",
        "1& x^{(N')}_1& x^{(N')}_2 &\\ldots& x^{(N')}_d\\\\\n",
        "\\end{matrix}\\right]$\n",
        "and a column vector ${\\bf y}^T=[y^{(1)},y^{(2)},\\dots,y^{(N')}]$ of labels for $X$.\n",
        "\n",
        "The output is $\\ell({\\bf w})$"
      ]
    },
    {
      "cell_type": "code",
      "metadata": {
        "colab": {
          "base_uri": "https://localhost:8080/"
        },
        "id": "pgyxv_aqhsGZ",
        "outputId": "78aa9bb6-86f5-446d-dbae-0d6ecf9a06ee"
      },
      "source": [
        "# Write the log likelihood function \n",
        "def log_likelihood(X , y , w ):\n",
        "  a = sum(sum(y*np.log(hypothesis(X,w)) + (1 - y)*np.log(1-hypothesis(X,w))))\n",
        "  return a\n",
        "\n",
        "print(log_likelihood(X_train, y_train, w))"
      ],
      "execution_count": null,
      "outputs": [
        {
          "output_type": "stream",
          "text": [
            "-295.2806989185347\n"
          ],
          "name": "stdout"
        }
      ]
    },
    {
      "cell_type": "markdown",
      "metadata": {
        "id": "kWnI-NQ2Floy"
      },
      "source": [
        ""
      ]
    },
    {
      "cell_type": "markdown",
      "metadata": {
        "id": "igEv5fZMhsGZ"
      },
      "source": [
        "# Gradient Ascent\n",
        "Now writing the code to perform gradient ascent. I will use the update rule from the lecture notes."
      ]
    },
    {
      "cell_type": "code",
      "metadata": {
        "id": "Z9IdpFUShsGZ"
      },
      "source": [
        "# TODO - Write the gradient ascent function \n",
        "def Logistic_Regresion_Gradient_Ascent(X, y, learning_rate, num_iters):\n",
        "    # For every 100 iterations, store the log_likelihood for the current w\n",
        "    # Initializing log_likelihood to be an empty list  \n",
        "    # Initialize w to be a zero vector of shape x_train.shape[1],1\n",
        "    # Initialize N to the number of training examples\n",
        "    log_likelihood_values = []\n",
        "    w = np.zeros((X_train.shape[1], 1))\n",
        "    N = X_train.shape[0]\n",
        "    y = y.reshape(y.shape[0],1)\n",
        "    for i in range(num_iters): \n",
        "        # update the w using formula\n",
        "        # append the log_likelihodd values to the list for every 100 iterations\n",
        "        error = y - hypothesis(X, w)\n",
        "        gradient = (1/N) * np.dot(X.T, error)\n",
        "        w += gradient * learning_rate\n",
        "        if i % 100 is 0: \n",
        "          log_likelihood_values.append(log_likelihood(X, y, w))\n",
        "    return w, log_likelihood_values"
      ],
      "execution_count": null,
      "outputs": []
    },
    {
      "cell_type": "markdown",
      "metadata": {
        "id": "4XezJ4kghsGZ"
      },
      "source": [
        "### After completing the code above, run the following"
      ]
    },
    {
      "cell_type": "code",
      "metadata": {
        "colab": {
          "base_uri": "https://localhost:8080/"
        },
        "id": "wbeq-ud0hsGZ",
        "outputId": "0abfc6c2-5b09-4137-be49-58e3d6337f31"
      },
      "source": [
        "# Set the learning_rate\n",
        "# Set the num_iters \n",
        "# Run the Logistic_Regresion_Gradient_Ascent() and store the returned values\n",
        "print(X_train.shape)\n",
        "print(y_train.shape)\n",
        "learning_rate = 0.1\n",
        "num_iters = 2646\n",
        "w, log_likelihood_values = Logistic_Regresion_Gradient_Ascent(X_train, y_train, learning_rate , num_iters)\n",
        "print(w)\n",
        "print(log_likelihood_values)"
      ],
      "execution_count": null,
      "outputs": [
        {
          "output_type": "stream",
          "text": [
            "(426, 31)\n",
            "(426,)\n",
            "[[ 0.41236259]\n",
            " [-0.35113387]\n",
            " [-0.55621928]\n",
            " [-0.32664897]\n",
            " [-0.43929659]\n",
            " [-0.32226084]\n",
            " [ 0.43738212]\n",
            " [-0.84160684]\n",
            " [-0.91951854]\n",
            " [ 0.25510898]\n",
            " [ 0.31600747]\n",
            " [-1.43741335]\n",
            " [ 0.01992376]\n",
            " [-0.74627901]\n",
            " [-1.13433395]\n",
            " [-0.21941376]\n",
            " [ 0.85974467]\n",
            " [ 0.09319953]\n",
            " [-0.26585219]\n",
            " [ 0.4603329 ]\n",
            " [ 0.60481201]\n",
            " [-1.06579486]\n",
            " [-1.11098512]\n",
            " [-0.80971855]\n",
            " [-1.02767726]\n",
            " [-0.83842663]\n",
            " [-0.05549632]\n",
            " [-0.94969195]\n",
            " [-1.01498284]\n",
            " [-1.03741495]\n",
            " [-0.48023032]]\n",
            "[-0.5228435360323179, -0.10766165228836587, -0.09039698758236035, -0.08281307650994257, -0.07825961056754271, -0.07511051434355874, -0.07274940548270988, -0.07088431081325203, -0.06935638576083991, -0.06807062469585469, -0.06696615006647834, -0.06600185195296883, -0.06514879518475511, -0.06438591473331885, -0.0636974360485484, -0.0630712581734656, -0.06249790244917881, -0.061969807925310934, -0.06148084694372121, -0.06102598466732326, -0.06060103497769499, -0.0602024821581336, -0.05982734823162897, -0.05947309246053116, -0.05913753383958456, -0.05881879028662719, -0.05851523016756624]\n"
          ],
          "name": "stdout"
        }
      ]
    },
    {
      "cell_type": "markdown",
      "metadata": {
        "id": "MbDqweHGhsGa"
      },
      "source": [
        "# Plotting Likelihood v/s Number of Iterations."
      ]
    },
    {
      "cell_type": "code",
      "metadata": {
        "colab": {
          "base_uri": "https://localhost:8080/",
          "height": 332
        },
        "id": "bzpaNG87hsGa",
        "outputId": "80c95f6f-2d1b-43d4-ac04-b15e613d9ef4"
      },
      "source": [
        "# Run this cell to plot Likelihood v/s Number of Iterations.\n",
        "iters = np.array(range(0, num_iters, 100))\n",
        "plt.plot(iters, log_likelihood_values, '.-', color='green')\n",
        "plt.xlabel('Number of iterations')\n",
        "plt.ylabel('Likelihood')\n",
        "plt.title(\"Likelihood vs Number of Iterations.\")\n",
        "plt.grid()"
      ],
      "execution_count": null,
      "outputs": [
        {
          "output_type": "execute_result",
          "data": {
            "text/plain": [
              "[<matplotlib.lines.Line2D at 0x7f0d9f12cfd0>]"
            ]
          },
          "metadata": {
            "tags": []
          },
          "execution_count": 52
        },
        {
          "output_type": "execute_result",
          "data": {
            "text/plain": [
              "Text(0.5, 0, 'Number of iterations')"
            ]
          },
          "metadata": {
            "tags": []
          },
          "execution_count": 52
        },
        {
          "output_type": "execute_result",
          "data": {
            "text/plain": [
              "Text(0, 0.5, 'Likelihood')"
            ]
          },
          "metadata": {
            "tags": []
          },
          "execution_count": 52
        },
        {
          "output_type": "execute_result",
          "data": {
            "text/plain": [
              "Text(0.5, 1.0, 'Likelihood vs Number of Iterations.')"
            ]
          },
          "metadata": {
            "tags": []
          },
          "execution_count": 52
        },
        {
          "output_type": "display_data",
          "data": {
            "image/png": "[encoded data removed]",
            "text/plain": [
              "<Figure size 432x288 with 1 Axes>"
            ]
          },
          "metadata": {
            "tags": [],
            "needs_background": "light"
          }
        }
      ]
    },
    {
      "cell_type": "markdown",
      "metadata": {
        "id": "8XGbEMHlhsGb"
      },
      "source": [
        "#  Evaluating your model"
      ]
    },
    {
      "cell_type": "code",
      "metadata": {
        "colab": {
          "base_uri": "https://localhost:8080/"
        },
        "id": "AQoRZgVFhsGb",
        "outputId": "606b63d3-f1a1-45f7-cd68-d0465fa538ae"
      },
      "source": [
        "# use hypothesis(...) to predict.\n",
        "prediction = hypothesis(X_test, w)\n",
        "print(prediction.shape)\n",
        "prediction = prediction.reshape(prediction.shape[0])\n",
        "print(prediction.shape)\n",
        "threshold = 0.5\n",
        "after_threshold = (prediction >= threshold).astype(int)\n",
        "\n",
        "# print(after_threshold)\n",
        "# y_test = y_test.reshape(y_test.shape[0])\n",
        "# print(np.sum(y_test))"
      ],
      "execution_count": null,
      "outputs": [
        {
          "output_type": "stream",
          "text": [
            "(143, 1)\n",
            "(143,)\n"
          ],
          "name": "stdout"
        }
      ]
    },
    {
      "cell_type": "code",
      "metadata": {
        "colab": {
          "base_uri": "https://localhost:8080/"
        },
        "id": "l1quHlwIhsGb",
        "outputId": "075b6d9d-bb73-459c-ce10-3014d55a1d7d"
      },
      "source": [
        "# count TP,FP,FN,FP\n",
        "TP,FP,TN,FN = 0,0,0,0\n",
        "\n",
        "for i in range(y_test.shape[0]):\n",
        "  if y_test[i] == 1 and after_threshold[i] == 1:\n",
        "    TP += 1\n",
        "  elif y_test[i] == 0 and after_threshold[i] == 1:\n",
        "    FP += 1\n",
        "  elif y_test[i] == 1 and after_threshold[i] == 0:\n",
        "    FN += 1\n",
        "  elif y_test[i] == 0 and after_threshold[i] == 0:\n",
        "    TN += 1\n",
        "\n",
        "# calculate precision, recall and f1\n",
        "precision = TP/(TP+FP)\n",
        "recall = TP/(TP+FN)\n",
        "fl = 2*(precision*recall) / (precision+recall)\n",
        "\n",
        "print(\"Precision: \",precision)\n",
        "print(\"Recall: \",recall) \n",
        "print(\"F1: \",fl)\n",
        "print(\"Confusion Matrix: \")\n",
        "print(\"TP: \",TP,\" FN: \",FN,\" FP: \",FP,\" TN: \",TN)"
      ],
      "execution_count": null,
      "outputs": [
        {
          "output_type": "stream",
          "text": [
            "Precision:  0.9885057471264368\n",
            "Recall:  1.0\n",
            "F1:  0.9942196531791908\n",
            "Confusion Matrix: \n",
            "TP:  86  FN:  0  FP:  1  TN:  56\n"
          ],
          "name": "stdout"
        }
      ]
    },
    {
      "cell_type": "code",
      "metadata": {
        "id": "JGG46Yx-7_a8"
      },
      "source": [
        "##########################################\n",
        "################# REPORT #################\n",
        "##########################################\n",
        "\n",
        "# Below is the set of results for all attempted hyperparameters.\n",
        "# The best case result achieved was from the following hyperparameters:\n",
        "# learning_rate = 0.1, num_iters = 2646, threshold = 0.5\n",
        "\n",
        "# ------------- Best result ------------- #\n",
        "# Precision:  0.9885057471264368          #\n",
        "# Recall:  1.0                            #\n",
        "# F1:  0.9942196531791908                 #\n",
        "# Confusion Matrix:                       #\n",
        "# TP:  86  FN:  0  FP:  1  TN:  56        #\n",
        "# --------------------------------------- #\n",
        "\n",
        "\n",
        "# # learning_rate = 0.1 / num_iters = 5000\n",
        "# Precision:  0.9772727272727273\n",
        "# Recall:  1.0\n",
        "# F1:  0.9885057471264368\n",
        "# TP:  86  FN:  0  FP:  2  TN:  55\n",
        "\n",
        "\n",
        "# # learning_rate = 0.1 / num_iters = 2000\n",
        "# Precision:  0.9885057471264368\n",
        "# Recall:  1.0\n",
        "# F1:  0.9942196531791908\n",
        "# Confusion Matrix: \n",
        "# TP:  86  FN:  0  FP:  1  TN:  56\n",
        "\n",
        "\n",
        "# # learning_rate = 0.1 / num_iters = 1000\n",
        "# Precision:  0.9885057471264368\n",
        "# Recall:  1.0\n",
        "# F1:  0.9942196531791908\n",
        "#TP:  86  FN:  0  FP:  1  TN:  56\n",
        "\n",
        "\n",
        "# # learning_rate = 0.5 / num_iters = 5000\n",
        "# Precision:  0.9767441860465116\n",
        "# Recall:  0.9767441860465116\n",
        "# F1:  0.9767441860465116\n",
        "# Confusion Matrix: \n",
        "# TP:  84  FN:  2  FP:  2  TN:  55\n",
        "\n",
        "\n",
        "# # learning_rate = 0.5 / num_iters = 2000\n",
        "# Precision:  0.9767441860465116\n",
        "# Recall:  0.9767441860465116\n",
        "# F1:  0.9767441860465116\n",
        "# Confusion Matrix: \n",
        "# TP:  84  FN:  2  FP:  2  TN:  55\n",
        "\n",
        "\n",
        "# # learning_rate = 0.5 / num_iters = 1000\n",
        "# Precision:  0.9772727272727273\n",
        "# Recall:  1.0\n",
        "# F1:  0.9885057471264368\n",
        "# Confusion Matrix: \n",
        "# TP:  86  FN:  0  FP:  2  TN:  55"
      ],
      "execution_count": null,
      "outputs": []
    }
  ]
}